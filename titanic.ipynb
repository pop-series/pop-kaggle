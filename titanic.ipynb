{
 "cells": [
  {
   "cell_type": "markdown",
   "id": "a84d2529-e240-43d7-b648-36deb47e8096",
   "metadata": {},
   "source": [
    "# Titanic Competition\n",
    "Link: https://www.kaggle.com/competitions/titanic/overview"
   ]
  },
  {
   "cell_type": "code",
   "execution_count": 1,
   "id": "58f23a0a-4814-44cc-86a6-f6a9ba193d4c",
   "metadata": {},
   "outputs": [],
   "source": [
    "import pandas as pd\n",
    "import numpy as np\n",
    "import matplotlib.pyplot as plt\n",
    "import matplotlib.cm as cm\n",
    "import seaborn as sns\n",
    "from scipy.stats import boxcox, yeojohnson\n",
    "from sklearn.linear_model import LogisticRegression, RidgeClassifier\n",
    "from sklearn.svm import SVC, LinearSVC, NuSVC\n",
    "from sklearn.neighbors import KNeighborsClassifier\n",
    "from sklearn.naive_bayes import BernoulliNB, GaussianNB\n",
    "from sklearn.ensemble import RandomForestClassifier, GradientBoostingClassifier, AdaBoostClassifier, ExtraTreesClassifier, VotingClassifier\n",
    "from sklearn.tree import DecisionTreeClassifier\n",
    "from sklearn.cluster import KMeans\n",
    "from sklearn.neural_network import MLPClassifier\n",
    "\n",
    "from xgboost import XGBClassifier\n",
    "\n",
    "from sklearn.pipeline import Pipeline\n",
    "from sklearn.model_selection import train_test_split, StratifiedShuffleSplit, GridSearchCV, cross_val_score, StratifiedKFold, learning_curve, cross_val_predict\n",
    "from sklearn.preprocessing import LabelEncoder, OneHotEncoder, StandardScaler\n",
    "from sklearn.metrics import precision_recall_fscore_support, confusion_matrix, roc_auc_score, log_loss, fbeta_score, make_scorer, accuracy_score, classification_report\n",
    "from sklearn.calibration import CalibratedClassifierCV\n",
    "from sklearn.discriminant_analysis import LinearDiscriminantAnalysis, QuadraticDiscriminantAnalysis\n",
    "\n",
    "from tqdm import tqdm"
   ]
  },
  {
   "cell_type": "markdown",
   "id": "b77aa354-5de0-477f-841e-1854ada860ee",
   "metadata": {},
   "source": [
    "## EDA"
   ]
  },
  {
   "cell_type": "code",
   "execution_count": 2,
   "id": "7c27b06d-0a82-4647-a1ad-9e51ecb640be",
   "metadata": {},
   "outputs": [
    {
     "data": {
      "text/html": [
       "<div>\n",
       "<style scoped>\n",
       "    .dataframe tbody tr th:only-of-type {\n",
       "        vertical-align: middle;\n",
       "    }\n",
       "\n",
       "    .dataframe tbody tr th {\n",
       "        vertical-align: top;\n",
       "    }\n",
       "\n",
       "    .dataframe thead th {\n",
       "        text-align: right;\n",
       "    }\n",
       "</style>\n",
       "<table border=\"1\" class=\"dataframe\">\n",
       "  <thead>\n",
       "    <tr style=\"text-align: right;\">\n",
       "      <th></th>\n",
       "      <th>PassengerId</th>\n",
       "      <th>Survived</th>\n",
       "    </tr>\n",
       "  </thead>\n",
       "  <tbody>\n",
       "    <tr>\n",
       "      <th>0</th>\n",
       "      <td>892</td>\n",
       "      <td>0</td>\n",
       "    </tr>\n",
       "    <tr>\n",
       "      <th>1</th>\n",
       "      <td>893</td>\n",
       "      <td>1</td>\n",
       "    </tr>\n",
       "  </tbody>\n",
       "</table>\n",
       "</div>"
      ],
      "text/plain": [
       "   PassengerId  Survived\n",
       "0          892         0\n",
       "1          893         1"
      ]
     },
     "execution_count": 2,
     "metadata": {},
     "output_type": "execute_result"
    }
   ],
   "source": [
    "pd.read_csv('titanic/gender_submission.csv').head(2)"
   ]
  },
  {
   "cell_type": "code",
   "execution_count": 3,
   "id": "759811cb-81ee-4758-a623-d7f33de659eb",
   "metadata": {},
   "outputs": [
    {
     "data": {
      "text/html": [
       "<div>\n",
       "<style scoped>\n",
       "    .dataframe tbody tr th:only-of-type {\n",
       "        vertical-align: middle;\n",
       "    }\n",
       "\n",
       "    .dataframe tbody tr th {\n",
       "        vertical-align: top;\n",
       "    }\n",
       "\n",
       "    .dataframe thead th {\n",
       "        text-align: right;\n",
       "    }\n",
       "</style>\n",
       "<table border=\"1\" class=\"dataframe\">\n",
       "  <thead>\n",
       "    <tr style=\"text-align: right;\">\n",
       "      <th></th>\n",
       "      <th>PassengerId</th>\n",
       "      <th>Survived</th>\n",
       "      <th>Pclass</th>\n",
       "      <th>Name</th>\n",
       "      <th>Sex</th>\n",
       "      <th>Age</th>\n",
       "      <th>SibSp</th>\n",
       "      <th>Parch</th>\n",
       "      <th>Ticket</th>\n",
       "      <th>Fare</th>\n",
       "      <th>Cabin</th>\n",
       "      <th>Embarked</th>\n",
       "    </tr>\n",
       "  </thead>\n",
       "  <tbody>\n",
       "    <tr>\n",
       "      <th>0</th>\n",
       "      <td>1</td>\n",
       "      <td>0</td>\n",
       "      <td>3</td>\n",
       "      <td>Braund, Mr. Owen Harris</td>\n",
       "      <td>male</td>\n",
       "      <td>22.0</td>\n",
       "      <td>1</td>\n",
       "      <td>0</td>\n",
       "      <td>A/5 21171</td>\n",
       "      <td>7.2500</td>\n",
       "      <td>NaN</td>\n",
       "      <td>S</td>\n",
       "    </tr>\n",
       "    <tr>\n",
       "      <th>1</th>\n",
       "      <td>2</td>\n",
       "      <td>1</td>\n",
       "      <td>1</td>\n",
       "      <td>Cumings, Mrs. John Bradley (Florence Briggs Th...</td>\n",
       "      <td>female</td>\n",
       "      <td>38.0</td>\n",
       "      <td>1</td>\n",
       "      <td>0</td>\n",
       "      <td>PC 17599</td>\n",
       "      <td>71.2833</td>\n",
       "      <td>C85</td>\n",
       "      <td>C</td>\n",
       "    </tr>\n",
       "  </tbody>\n",
       "</table>\n",
       "</div>"
      ],
      "text/plain": [
       "   PassengerId  Survived  Pclass  \\\n",
       "0            1         0       3   \n",
       "1            2         1       1   \n",
       "\n",
       "                                                Name     Sex   Age  SibSp  \\\n",
       "0                            Braund, Mr. Owen Harris    male  22.0      1   \n",
       "1  Cumings, Mrs. John Bradley (Florence Briggs Th...  female  38.0      1   \n",
       "\n",
       "   Parch     Ticket     Fare Cabin Embarked  \n",
       "0      0  A/5 21171   7.2500   NaN        S  \n",
       "1      0   PC 17599  71.2833   C85        C  "
      ]
     },
     "execution_count": 3,
     "metadata": {},
     "output_type": "execute_result"
    }
   ],
   "source": [
    "df_train = pd.read_csv('titanic/train.csv')\n",
    "df_train.head(2)"
   ]
  },
  {
   "cell_type": "code",
   "execution_count": 4,
   "id": "dc964c08-6847-4ced-9c3a-750fe8e4bead",
   "metadata": {},
   "outputs": [
    {
     "data": {
      "text/html": [
       "<div>\n",
       "<style scoped>\n",
       "    .dataframe tbody tr th:only-of-type {\n",
       "        vertical-align: middle;\n",
       "    }\n",
       "\n",
       "    .dataframe tbody tr th {\n",
       "        vertical-align: top;\n",
       "    }\n",
       "\n",
       "    .dataframe thead th {\n",
       "        text-align: right;\n",
       "    }\n",
       "</style>\n",
       "<table border=\"1\" class=\"dataframe\">\n",
       "  <thead>\n",
       "    <tr style=\"text-align: right;\">\n",
       "      <th></th>\n",
       "      <th>PassengerId</th>\n",
       "      <th>Pclass</th>\n",
       "      <th>Name</th>\n",
       "      <th>Sex</th>\n",
       "      <th>Age</th>\n",
       "      <th>SibSp</th>\n",
       "      <th>Parch</th>\n",
       "      <th>Ticket</th>\n",
       "      <th>Fare</th>\n",
       "      <th>Cabin</th>\n",
       "      <th>Embarked</th>\n",
       "    </tr>\n",
       "  </thead>\n",
       "  <tbody>\n",
       "    <tr>\n",
       "      <th>0</th>\n",
       "      <td>892</td>\n",
       "      <td>3</td>\n",
       "      <td>Kelly, Mr. James</td>\n",
       "      <td>male</td>\n",
       "      <td>34.5</td>\n",
       "      <td>0</td>\n",
       "      <td>0</td>\n",
       "      <td>330911</td>\n",
       "      <td>7.8292</td>\n",
       "      <td>NaN</td>\n",
       "      <td>Q</td>\n",
       "    </tr>\n",
       "    <tr>\n",
       "      <th>1</th>\n",
       "      <td>893</td>\n",
       "      <td>3</td>\n",
       "      <td>Wilkes, Mrs. James (Ellen Needs)</td>\n",
       "      <td>female</td>\n",
       "      <td>47.0</td>\n",
       "      <td>1</td>\n",
       "      <td>0</td>\n",
       "      <td>363272</td>\n",
       "      <td>7.0000</td>\n",
       "      <td>NaN</td>\n",
       "      <td>S</td>\n",
       "    </tr>\n",
       "  </tbody>\n",
       "</table>\n",
       "</div>"
      ],
      "text/plain": [
       "   PassengerId  Pclass                              Name     Sex   Age  SibSp  \\\n",
       "0          892       3                  Kelly, Mr. James    male  34.5      0   \n",
       "1          893       3  Wilkes, Mrs. James (Ellen Needs)  female  47.0      1   \n",
       "\n",
       "   Parch  Ticket    Fare Cabin Embarked  \n",
       "0      0  330911  7.8292   NaN        Q  \n",
       "1      0  363272  7.0000   NaN        S  "
      ]
     },
     "execution_count": 4,
     "metadata": {},
     "output_type": "execute_result"
    }
   ],
   "source": [
    "df_test = pd.read_csv('titanic/test.csv')\n",
    "df_test.head(2)"
   ]
  },
  {
   "cell_type": "code",
   "execution_count": 5,
   "id": "c73573be-959c-4578-b242-4aa58ed10d30",
   "metadata": {},
   "outputs": [
    {
     "data": {
      "text/html": [
       "<div>\n",
       "<style scoped>\n",
       "    .dataframe tbody tr th:only-of-type {\n",
       "        vertical-align: middle;\n",
       "    }\n",
       "\n",
       "    .dataframe tbody tr th {\n",
       "        vertical-align: top;\n",
       "    }\n",
       "\n",
       "    .dataframe thead th {\n",
       "        text-align: right;\n",
       "    }\n",
       "</style>\n",
       "<table border=\"1\" class=\"dataframe\">\n",
       "  <thead>\n",
       "    <tr style=\"text-align: right;\">\n",
       "      <th></th>\n",
       "      <th>PassengerId</th>\n",
       "      <th>Survived</th>\n",
       "      <th>Pclass</th>\n",
       "      <th>Age</th>\n",
       "      <th>SibSp</th>\n",
       "      <th>Parch</th>\n",
       "      <th>Fare</th>\n",
       "    </tr>\n",
       "  </thead>\n",
       "  <tbody>\n",
       "    <tr>\n",
       "      <th>count</th>\n",
       "      <td>891.000000</td>\n",
       "      <td>891.000000</td>\n",
       "      <td>891.000000</td>\n",
       "      <td>714.000000</td>\n",
       "      <td>891.000000</td>\n",
       "      <td>891.000000</td>\n",
       "      <td>891.000000</td>\n",
       "    </tr>\n",
       "    <tr>\n",
       "      <th>mean</th>\n",
       "      <td>446.000000</td>\n",
       "      <td>0.383838</td>\n",
       "      <td>2.308642</td>\n",
       "      <td>29.699118</td>\n",
       "      <td>0.523008</td>\n",
       "      <td>0.381594</td>\n",
       "      <td>32.204208</td>\n",
       "    </tr>\n",
       "    <tr>\n",
       "      <th>std</th>\n",
       "      <td>257.353842</td>\n",
       "      <td>0.486592</td>\n",
       "      <td>0.836071</td>\n",
       "      <td>14.526497</td>\n",
       "      <td>1.102743</td>\n",
       "      <td>0.806057</td>\n",
       "      <td>49.693429</td>\n",
       "    </tr>\n",
       "    <tr>\n",
       "      <th>min</th>\n",
       "      <td>1.000000</td>\n",
       "      <td>0.000000</td>\n",
       "      <td>1.000000</td>\n",
       "      <td>0.420000</td>\n",
       "      <td>0.000000</td>\n",
       "      <td>0.000000</td>\n",
       "      <td>0.000000</td>\n",
       "    </tr>\n",
       "    <tr>\n",
       "      <th>25%</th>\n",
       "      <td>223.500000</td>\n",
       "      <td>0.000000</td>\n",
       "      <td>2.000000</td>\n",
       "      <td>20.125000</td>\n",
       "      <td>0.000000</td>\n",
       "      <td>0.000000</td>\n",
       "      <td>7.910400</td>\n",
       "    </tr>\n",
       "    <tr>\n",
       "      <th>50%</th>\n",
       "      <td>446.000000</td>\n",
       "      <td>0.000000</td>\n",
       "      <td>3.000000</td>\n",
       "      <td>28.000000</td>\n",
       "      <td>0.000000</td>\n",
       "      <td>0.000000</td>\n",
       "      <td>14.454200</td>\n",
       "    </tr>\n",
       "    <tr>\n",
       "      <th>75%</th>\n",
       "      <td>668.500000</td>\n",
       "      <td>1.000000</td>\n",
       "      <td>3.000000</td>\n",
       "      <td>38.000000</td>\n",
       "      <td>1.000000</td>\n",
       "      <td>0.000000</td>\n",
       "      <td>31.000000</td>\n",
       "    </tr>\n",
       "    <tr>\n",
       "      <th>max</th>\n",
       "      <td>891.000000</td>\n",
       "      <td>1.000000</td>\n",
       "      <td>3.000000</td>\n",
       "      <td>80.000000</td>\n",
       "      <td>8.000000</td>\n",
       "      <td>6.000000</td>\n",
       "      <td>512.329200</td>\n",
       "    </tr>\n",
       "  </tbody>\n",
       "</table>\n",
       "</div>"
      ],
      "text/plain": [
       "       PassengerId    Survived      Pclass         Age       SibSp  \\\n",
       "count   891.000000  891.000000  891.000000  714.000000  891.000000   \n",
       "mean    446.000000    0.383838    2.308642   29.699118    0.523008   \n",
       "std     257.353842    0.486592    0.836071   14.526497    1.102743   \n",
       "min       1.000000    0.000000    1.000000    0.420000    0.000000   \n",
       "25%     223.500000    0.000000    2.000000   20.125000    0.000000   \n",
       "50%     446.000000    0.000000    3.000000   28.000000    0.000000   \n",
       "75%     668.500000    1.000000    3.000000   38.000000    1.000000   \n",
       "max     891.000000    1.000000    3.000000   80.000000    8.000000   \n",
       "\n",
       "            Parch        Fare  \n",
       "count  891.000000  891.000000  \n",
       "mean     0.381594   32.204208  \n",
       "std      0.806057   49.693429  \n",
       "min      0.000000    0.000000  \n",
       "25%      0.000000    7.910400  \n",
       "50%      0.000000   14.454200  \n",
       "75%      0.000000   31.000000  \n",
       "max      6.000000  512.329200  "
      ]
     },
     "execution_count": 5,
     "metadata": {},
     "output_type": "execute_result"
    }
   ],
   "source": [
    "df_train.describe()"
   ]
  },
  {
   "cell_type": "markdown",
   "id": "68a7bab3-4d6c-43f8-b30d-ebcd7bdfe5a5",
   "metadata": {},
   "source": [
    "# Feature Engineering"
   ]
  },
  {
   "cell_type": "code",
   "execution_count": 46,
   "id": "227f77c5-9435-4b18-a1c1-db5901cfaeb1",
   "metadata": {},
   "outputs": [],
   "source": [
    "titles = [\n",
    "    'Mr.', 'Mrs.', 'Miss.', 'Ms.', 'Mme.', 'Mlle.', 'Master.',\n",
    "    'Rev.', 'Dr.', 'Don.', 'Dona.', 'Major.', 'Lady.', 'Sir.', 'Col.', 'Capt.', 'Countess.', 'Jonkheer.'\n",
    "]\n",
    "\n",
    "entitled_regex = 'Rev\\\\.|Dr\\\\.|Don\\\\.|Dona\\\\.|Major\\\\.|Lady\\\\.|Sir\\\\.|Col\\\\.|Capt\\\\.|Countess\\\\.|Jonkheer\\\\.'\n",
    "normalized_title_mapping = {\n",
    "    'Mlle.': 'Miss.',\n",
    "    'Ms.': 'Miss.',\n",
    "    'Mme.': 'Mrs.',\n",
    "    'Dr.': 'Other.',\n",
    "    'Rev.': 'Other.',\n",
    "    'Don.': 'Other.',\n",
    "    'Dona.': 'Other.',\n",
    "    'Sir.': 'Other.',\n",
    "    'Jonkheer.': 'Other.',\n",
    "    'Lady.': 'Other.',\n",
    "    'Countess.': 'Other.',\n",
    "    'Major.': 'Other.',\n",
    "    'Col.': 'Other.',\n",
    "    'Capt.': 'Other.',\n",
    "    # Retained - Mr., Miss., Master.\n",
    "}\n",
    "\n",
    "def extract_title(name):\n",
    "    if pd.isna(name):\n",
    "        return 'Unknown'\n",
    "    \n",
    "    for title in titles:\n",
    "        if title in name:\n",
    "            return normalized_title_mapping.get(title, title)\n",
    "    \n",
    "    return 'Unknown'\n",
    "\n",
    "X_train = df_train.copy()\n",
    "X_test = df_test.copy()\n",
    "\n",
    "X_train['Title'] = X_train['Name'].apply(extract_title)\n",
    "X_test['Title'] = X_test['Name'].apply(extract_title)\n",
    "\n",
    "embarked_mode = X_train['Embarked'].mode()\n",
    "X_train['Embarked'] = X_train['Embarked'].fillna(embarked_mode)\n",
    "X_train['Embarked'] = X_train['Embarked'].fillna(embarked_mode)\n",
    "\n",
    "cat = ['Sex', 'Pclass', 'Title']\n",
    "X_age = pd.concat([X_train[cat + ['Age']], X_test[cat + ['Age']]], ignore_index=True)\n",
    "X_age_median = round(X_age.dropna().groupby(cat, as_index=True).median(),1)\n",
    "\n",
    "def fill_age_by_cat(age, sex, pclass, title):\n",
    "    if pd.notna(age):\n",
    "        return age\n",
    "    return X_age_median['Age'][sex][pclass][title]\n",
    "\n",
    "X_train['AgeTrans'] = X_train.apply(lambda x: fill_age_by_cat(x.Age, x.Sex, x.Pclass, x.Title), axis=1)\n",
    "X_test['AgeTrans'] = X_test.apply(lambda x: fill_age_by_cat(x.Age, x.Sex, x.Pclass, x.Title), axis=1)\n",
    "\n",
    "X_train['AgeTrans'], age_lambda_param = yeojohnson(X_train['AgeTrans'])\n",
    "X_test['AgeTrans'] = yeojohnson(X_test['AgeTrans'], lmbda=age_lambda_param)\n",
    "\n",
    "X_train['FamilySize'] = 1 + X_train['Parch'] + X_train['SibSp']\n",
    "X_test['FamilySize'] = 1 + X_test['Parch'] + X_test['SibSp']\n",
    "\n",
    "X_train['FamilyBucket'] = pd.cut(X_train['FamilySize'], bins=[0, 1, 4, 20], labels=[2, 3, 1])\n",
    "X_test['FamilyBucket'] = pd.cut(X_test['FamilySize'], bins=[0, 1, 4, 20], labels=[2, 3, 1])"
   ]
  },
  {
   "cell_type": "code",
   "execution_count": 47,
   "id": "a78d6eea-238b-41e5-85ec-f50165892b90",
   "metadata": {},
   "outputs": [
    {
     "name": "stderr",
     "output_type": "stream",
     "text": [
      "/var/folders/q3/14lgwyts2qnfqxtwkryq59n40000gn/T/ipykernel_49859/3853952147.py:15: FutureWarning: Series.__getitem__ treating keys as positions is deprecated. In a future version, integer keys will always be treated as labels (consistent with DataFrame behavior). To access a value by position, use `ser.iloc[pos]`\n",
      "  array = np.array([[X[i], Y[i]] for i in range(len(X))])\n"
     ]
    },
    {
     "data": {
      "image/png": "[encoded data removed]",
      "text/plain": [
       "<Figure size 640x480 with 1 Axes>"
      ]
     },
     "metadata": {},
     "output_type": "display_data"
    }
   ],
   "source": [
    "def get_ticket_code(ticket):\n",
    "    if pd.isna(ticket) or ticket.isdigit():\n",
    "        return 'MISSING'\n",
    "    return ticket.replace('.', '').replace('/', '').split(' ')[0]\n",
    "\n",
    "X_train['TicketCode'] = X_train['Ticket'].apply(get_ticket_code)\n",
    "X_test['TicketCode'] = X_test['Ticket'].apply(get_ticket_code)\n",
    "\n",
    "X = X_train.groupby('TicketCode')['Survived'].mean()\n",
    "Y = X_train.groupby('TicketCode')['Survived'].count()\n",
    "\n",
    "X = (X - np.mean(X)) / np.std(X)\n",
    "Y = (Y - np.mean(Y)) / np.std(Y)\n",
    "\n",
    "array = np.array([[X[i], Y[i]] for i in range(len(X))])\n",
    "plt.plot(X, Y, 'ro')\n",
    "plt.show()"
   ]
  },
  {
   "cell_type": "code",
   "execution_count": 48,
   "id": "196fe051-075f-47f2-b200-a0b4b13d82f5",
   "metadata": {},
   "outputs": [
    {
     "name": "stdout",
     "output_type": "stream",
     "text": [
      "          X         Y  label TicketCode\n",
      "0 -0.982387 -0.187279      0         A4\n",
      "1 -0.671617 -0.066687      0         A5\n",
      "2 -0.982387 -0.238961      0         AS\n"
     ]
    },
    {
     "data": {
      "image/png": "[encoded data removed]",
      "text/plain": [
       "<Figure size 640x480 with 1 Axes>"
      ]
     },
     "metadata": {},
     "output_type": "display_data"
    }
   ],
   "source": [
    "kmeans = KMeans(n_clusters=3, random_state=0).fit(array)\n",
    "df_clusters = pd.DataFrame(array, columns=['X', 'Y'])\n",
    "df_clusters['label'] = kmeans.labels_\n",
    "df_clusters['TicketCode'] = X_train.groupby('TicketCode')['Survived'].mean().reset_index()['TicketCode']\n",
    "print(df_clusters.head(3))\n",
    "\n",
    "sns.scatterplot(data=df_clusters, x='X', y='Y', style='label', hue='label', s=100)\n",
    "plt.show()"
   ]
  },
  {
   "cell_type": "code",
   "execution_count": 49,
   "id": "a89cce5f-4712-4f98-a13c-68cca9dce127",
   "metadata": {},
   "outputs": [
    {
     "data": {
      "text/plain": [
       "TicketCodeLabel\n",
       "0    0.092105\n",
       "1    0.525974\n",
       "2    0.384266\n",
       "Name: Survived, dtype: float64"
      ]
     },
     "execution_count": 49,
     "metadata": {},
     "output_type": "execute_result"
    }
   ],
   "source": [
    "ticket_code_dict = df_clusters.set_index('TicketCode')['label'].to_dict()\n",
    "\n",
    "X_train['TicketCodeLabel'] = X_train['TicketCode'].apply(lambda val: ticket_code_dict[val])\n",
    "ticket_code_label_mode = X_train['TicketCodeLabel'].mode()[0]\n",
    "X_test['TicketCodeLabel'] = X_test['TicketCode'].apply(lambda val: ticket_code_dict.get(val, ticket_code_label_mode))\n",
    "\n",
    "X_train.groupby('TicketCodeLabel')['Survived'].mean()"
   ]
  },
  {
   "cell_type": "code",
   "execution_count": 50,
   "id": "37a48a87-d76a-4210-9d8d-1084ba863b57",
   "metadata": {},
   "outputs": [],
   "source": [
    "fare_median = X_train['Fare'].median()\n",
    "X_train['Fare'] = X_train['Fare'].fillna(fare_median)\n",
    "X_test['Fare'] = X_test['Fare'].fillna(fare_median)\n",
    "\n",
    "X_train['FareTrans'], fare_lambda_param = yeojohnson(X_train['Fare'])\n",
    "X_test['FareTrans'] = yeojohnson(X_test['Fare'], lmbda=fare_lambda_param)"
   ]
  },
  {
   "cell_type": "code",
   "execution_count": 51,
   "id": "77f13cd1-2fa0-4332-a610-a1f9fd8915e4",
   "metadata": {},
   "outputs": [],
   "source": [
    "pclass_dict = {1:1, 2:0, 3:-1}\n",
    "X_train['PclassTrans'] = X_train['Pclass'].map(pclass_dict)\n",
    "X_test['PclassTrans'] = X_test['Pclass'].map(pclass_dict)"
   ]
  },
  {
   "cell_type": "code",
   "execution_count": 52,
   "id": "99c544b6-4246-4621-b4c1-9530647d878a",
   "metadata": {},
   "outputs": [
    {
     "name": "stderr",
     "output_type": "stream",
     "text": [
      "/var/folders/q3/14lgwyts2qnfqxtwkryq59n40000gn/T/ipykernel_49859/1821636324.py:15: FutureWarning: Series.__getitem__ treating keys as positions is deprecated. In a future version, integer keys will always be treated as labels (consistent with DataFrame behavior). To access a value by position, use `ser.iloc[pos]`\n",
      "  array = np.array([[X[i], Y[i]] for i in range(len(X))])\n"
     ]
    },
    {
     "data": {
      "image/png": "[encoded data removed]",
      "text/plain": [
       "<Figure size 640x480 with 1 Axes>"
      ]
     },
     "metadata": {},
     "output_type": "display_data"
    }
   ],
   "source": [
    "def get_cabin_prefix(cabin):\n",
    "    if pd.isna(cabin):\n",
    "        return 'MISSING'\n",
    "    return cabin[0]\n",
    "\n",
    "X_train['CabinPrefix'] = X_train['Cabin'].apply(get_cabin_prefix)\n",
    "X_test['CabinPrefix'] = X_test['Cabin'].apply(get_cabin_prefix)\n",
    "\n",
    "X = X_train.groupby('CabinPrefix')['Survived'].mean()\n",
    "Y = X_train.groupby('CabinPrefix')['Survived'].count()\n",
    "\n",
    "X = (X - np.mean(X)) / np.std(X)\n",
    "Y = (Y - np.mean(Y)) / np.std(Y)\n",
    "\n",
    "array = np.array([[X[i], Y[i]] for i in range(len(X))])\n",
    "plt.plot(X, Y, 'ro')\n",
    "plt.show()"
   ]
  },
  {
   "cell_type": "code",
   "execution_count": 53,
   "id": "6d55000b-ef1b-474d-ae00-c9880649646e",
   "metadata": {},
   "outputs": [
    {
     "name": "stdout",
     "output_type": "stream",
     "text": [
      "          X         Y  label CabinPrefix\n",
      "0 -0.249575 -0.402506      0           A\n",
      "1  0.934516 -0.249170      0           B\n",
      "2  0.289430 -0.191669      0           C\n"
     ]
    },
    {
     "data": {
      "image/png": "[encoded data removed]",
      "text/plain": [
       "<Figure size 640x480 with 1 Axes>"
      ]
     },
     "metadata": {},
     "output_type": "display_data"
    }
   ],
   "source": [
    "kmeans = KMeans(n_clusters=3, random_state=0).fit(array)\n",
    "df_clusters = pd.DataFrame(array, columns=['X', 'Y'])\n",
    "df_clusters['label'] = kmeans.labels_\n",
    "df_clusters['CabinPrefix'] = X_train.groupby('CabinPrefix')['Survived'].mean().reset_index()['CabinPrefix']\n",
    "print(df_clusters.head(3))\n",
    "\n",
    "sns.scatterplot(data=df_clusters, x='X', y='Y', style='label', hue='label', s=100)\n",
    "plt.show()"
   ]
  },
  {
   "cell_type": "code",
   "execution_count": 54,
   "id": "d9f3a6b7-ed6e-4aa4-b506-4c6b0cd6aaf8",
   "metadata": {},
   "outputs": [
    {
     "data": {
      "text/plain": [
       "CabinPrefixLabel\n",
       "0    0.669951\n",
       "1    0.299854\n",
       "2    0.000000\n",
       "Name: Survived, dtype: float64"
      ]
     },
     "execution_count": 54,
     "metadata": {},
     "output_type": "execute_result"
    }
   ],
   "source": [
    "cabin_prefix_dict = df_clusters.set_index('CabinPrefix')['label'].to_dict()\n",
    "\n",
    "X_train['CabinPrefixLabel'] = X_train['CabinPrefix'].apply(lambda val: cabin_prefix_dict[val])\n",
    "X_test['CabinPrefixLabel'] = X_test['CabinPrefix'].apply(lambda val: cabin_prefix_dict[val])\n",
    "\n",
    "X_train.groupby('CabinPrefixLabel')['Survived'].mean()"
   ]
  },
  {
   "cell_type": "code",
   "execution_count": 55,
   "id": "7d52fc4c-377b-4090-984f-91a4fa3c8912",
   "metadata": {},
   "outputs": [
    {
     "data": {
      "text/plain": [
       "Index(['PassengerId', 'Survived', 'Pclass', 'Name', 'Sex', 'Age', 'SibSp',\n",
       "       'Parch', 'Ticket', 'Fare', 'Cabin', 'Embarked', 'Title', 'AgeTrans',\n",
       "       'FamilySize', 'FamilyBucket', 'TicketCode', 'TicketCodeLabel',\n",
       "       'FareTrans', 'PclassTrans', 'CabinPrefix', 'CabinPrefixLabel'],\n",
       "      dtype='object')"
      ]
     },
     "execution_count": 55,
     "metadata": {},
     "output_type": "execute_result"
    }
   ],
   "source": [
    "X_train.columns"
   ]
  },
  {
   "cell_type": "code",
   "execution_count": 56,
   "id": "398d4ca4-87d3-43d5-a178-ffed9c6c2b9b",
   "metadata": {},
   "outputs": [],
   "source": [
    "selected_cols = ['Sex', 'Embarked', 'Title', 'AgeTrans', 'FamilyBucket', 'TicketCodeLabel', 'FareTrans', 'PclassTrans', 'CabinPrefixLabel']\n",
    "X_train_final = X_train[selected_cols]\n",
    "X_test_final = X_test[selected_cols]\n",
    "\n",
    "Y_train_final = X_train['Survived']"
   ]
  },
  {
   "cell_type": "code",
   "execution_count": 57,
   "id": "5408222c-ec2c-4928-97b6-99b407b7bfcd",
   "metadata": {},
   "outputs": [
    {
     "name": "stdout",
     "output_type": "stream",
     "text": [
      "<class 'pandas.core.frame.DataFrame'>\n",
      "RangeIndex: 891 entries, 0 to 890\n",
      "Data columns (total 9 columns):\n",
      " #   Column            Non-Null Count  Dtype   \n",
      "---  ------            --------------  -----   \n",
      " 0   Sex               891 non-null    object  \n",
      " 1   Embarked          889 non-null    object  \n",
      " 2   Title             891 non-null    object  \n",
      " 3   AgeTrans          891 non-null    float64 \n",
      " 4   FamilyBucket      891 non-null    category\n",
      " 5   TicketCodeLabel   891 non-null    int64   \n",
      " 6   FareTrans         891 non-null    float64 \n",
      " 7   PclassTrans       891 non-null    int64   \n",
      " 8   CabinPrefixLabel  891 non-null    int64   \n",
      "dtypes: category(1), float64(2), int64(3), object(3)\n",
      "memory usage: 56.8+ KB\n"
     ]
    }
   ],
   "source": [
    "X_train_final.info()"
   ]
  },
  {
   "cell_type": "code",
   "execution_count": 58,
   "id": "b5c8d8e6-3614-4166-88ff-a6c0f8ca2dc6",
   "metadata": {},
   "outputs": [
    {
     "name": "stdout",
     "output_type": "stream",
     "text": [
      "<class 'pandas.core.frame.DataFrame'>\n",
      "RangeIndex: 418 entries, 0 to 417\n",
      "Data columns (total 9 columns):\n",
      " #   Column            Non-Null Count  Dtype   \n",
      "---  ------            --------------  -----   \n",
      " 0   Sex               418 non-null    object  \n",
      " 1   Embarked          418 non-null    object  \n",
      " 2   Title             418 non-null    object  \n",
      " 3   AgeTrans          418 non-null    float64 \n",
      " 4   FamilyBucket      418 non-null    category\n",
      " 5   TicketCodeLabel   418 non-null    int64   \n",
      " 6   FareTrans         418 non-null    float64 \n",
      " 7   PclassTrans       418 non-null    int64   \n",
      " 8   CabinPrefixLabel  418 non-null    int64   \n",
      "dtypes: category(1), float64(2), int64(3), object(3)\n",
      "memory usage: 26.8+ KB\n"
     ]
    }
   ],
   "source": [
    "X_test_final.info()"
   ]
  },
  {
   "cell_type": "code",
   "execution_count": 59,
   "id": "8a5f7dbe-2805-4f65-a7fa-aa4b88a417c6",
   "metadata": {},
   "outputs": [],
   "source": [
    "X_train_final = pd.get_dummies(X_train_final, prefix = 'cat', drop_first=True)\n",
    "X_test_final = pd.get_dummies(X_test_final, prefix = 'cat', drop_first=True)"
   ]
  },
  {
   "cell_type": "code",
   "execution_count": 60,
   "id": "5a8ebb1b-8d68-41e7-b84d-9439283cd7c5",
   "metadata": {},
   "outputs": [],
   "source": [
    "models = [\n",
    "    Pipeline([\n",
    "        ('scaler', StandardScaler()),\n",
    "        ('logistic', LogisticRegression())\n",
    "    ]),\n",
    "    LogisticRegression(max_iter=1000),\n",
    "    DecisionTreeClassifier(),\n",
    "    RandomForestClassifier(),\n",
    "    SVC(),\n",
    "    ExtraTreesClassifier(),\n",
    "    GradientBoostingClassifier(),\n",
    "    AdaBoostClassifier(DecisionTreeClassifier(), learning_rate=0.1),\n",
    "    KNeighborsClassifier(),\n",
    "    XGBClassifier(),\n",
    "]"
   ]
  },
  {
   "cell_type": "code",
   "execution_count": 61,
   "id": "8c4ebb32-12d9-4183-a17d-7fa978b29bb1",
   "metadata": {},
   "outputs": [],
   "source": [
    "kfold = StratifiedKFold(n_splits=10)\n",
    "\n",
    "cv_results = []\n",
    "cv_names = []\n",
    "cv_means = []\n",
    "cv_std = []\n",
    "\n",
    "for model in  models:\n",
    "    cv_result = cross_val_score(model, X_train_final, y=Y_train_final, scoring='accuracy', cv=kfold, n_jobs=4)\n",
    "    cv_results.append(cv_result)\n",
    "    cv_names.append(model.__class__.__name__)\n",
    "    cv_means.append(cv_result.mean())\n",
    "    cv_std.append(cv_result.std())\n",
    "\n",
    "\n",
    "cv_res = pd.DataFrame({\n",
    "    'CrossValMeans': cv_means,\n",
    "    'CrossValErrors': cv_std,\n",
    "    'Algorithm': cv_names\n",
    "})"
   ]
  },
  {
   "cell_type": "code",
   "execution_count": 62,
   "id": "dc079738-b050-44b3-933f-477145c060d5",
   "metadata": {},
   "outputs": [
    {
     "data": {
      "image/png": "[encoded data removed]",
      "text/plain": [
       "<Figure size 640x480 with 1 Axes>"
      ]
     },
     "metadata": {},
     "output_type": "display_data"
    }
   ],
   "source": [
    "colors = cm.Set2(range(len(cv_res)))\n",
    "cv_res.plot(kind='barh', y='CrossValMeans', x='Algorithm', xerr=cv_std, color=colors)\n",
    "plt.legend(loc='center left', bbox_to_anchor=(1, 0.5))\n",
    "plt.show()"
   ]
  },
  {
   "cell_type": "code",
   "execution_count": 63,
   "id": "c78498ad-0eb4-4d27-b606-7944f8814a0e",
   "metadata": {},
   "outputs": [
    {
     "data": {
      "text/html": [
       "<div>\n",
       "<style scoped>\n",
       "    .dataframe tbody tr th:only-of-type {\n",
       "        vertical-align: middle;\n",
       "    }\n",
       "\n",
       "    .dataframe tbody tr th {\n",
       "        vertical-align: top;\n",
       "    }\n",
       "\n",
       "    .dataframe thead th {\n",
       "        text-align: right;\n",
       "    }\n",
       "</style>\n",
       "<table border=\"1\" class=\"dataframe\">\n",
       "  <thead>\n",
       "    <tr style=\"text-align: right;\">\n",
       "      <th></th>\n",
       "      <th>CrossValMeans</th>\n",
       "      <th>CrossValErrors</th>\n",
       "      <th>Algorithm</th>\n",
       "      <th>criterion</th>\n",
       "    </tr>\n",
       "  </thead>\n",
       "  <tbody>\n",
       "    <tr>\n",
       "      <th>1</th>\n",
       "      <td>0.830524</td>\n",
       "      <td>0.035346</td>\n",
       "      <td>LogisticRegression</td>\n",
       "      <td>0.812852</td>\n",
       "    </tr>\n",
       "    <tr>\n",
       "      <th>6</th>\n",
       "      <td>0.830537</td>\n",
       "      <td>0.037029</td>\n",
       "      <td>GradientBoostingClassifier</td>\n",
       "      <td>0.812022</td>\n",
       "    </tr>\n",
       "    <tr>\n",
       "      <th>0</th>\n",
       "      <td>0.829388</td>\n",
       "      <td>0.034812</td>\n",
       "      <td>Pipeline</td>\n",
       "      <td>0.811982</td>\n",
       "    </tr>\n",
       "    <tr>\n",
       "      <th>3</th>\n",
       "      <td>0.823820</td>\n",
       "      <td>0.042817</td>\n",
       "      <td>RandomForestClassifier</td>\n",
       "      <td>0.802412</td>\n",
       "    </tr>\n",
       "    <tr>\n",
       "      <th>5</th>\n",
       "      <td>0.809251</td>\n",
       "      <td>0.036267</td>\n",
       "      <td>ExtraTreesClassifier</td>\n",
       "      <td>0.791118</td>\n",
       "    </tr>\n",
       "    <tr>\n",
       "      <th>9</th>\n",
       "      <td>0.811486</td>\n",
       "      <td>0.041164</td>\n",
       "      <td>XGBClassifier</td>\n",
       "      <td>0.790903</td>\n",
       "    </tr>\n",
       "    <tr>\n",
       "      <th>8</th>\n",
       "      <td>0.804744</td>\n",
       "      <td>0.033196</td>\n",
       "      <td>KNeighborsClassifier</td>\n",
       "      <td>0.788146</td>\n",
       "    </tr>\n",
       "    <tr>\n",
       "      <th>4</th>\n",
       "      <td>0.800225</td>\n",
       "      <td>0.038524</td>\n",
       "      <td>SVC</td>\n",
       "      <td>0.780963</td>\n",
       "    </tr>\n",
       "    <tr>\n",
       "      <th>7</th>\n",
       "      <td>0.798015</td>\n",
       "      <td>0.040301</td>\n",
       "      <td>AdaBoostClassifier</td>\n",
       "      <td>0.777865</td>\n",
       "    </tr>\n",
       "    <tr>\n",
       "      <th>2</th>\n",
       "      <td>0.792397</td>\n",
       "      <td>0.047853</td>\n",
       "      <td>DecisionTreeClassifier</td>\n",
       "      <td>0.768471</td>\n",
       "    </tr>\n",
       "  </tbody>\n",
       "</table>\n",
       "</div>"
      ],
      "text/plain": [
       "   CrossValMeans  CrossValErrors                   Algorithm  criterion\n",
       "1       0.830524        0.035346          LogisticRegression   0.812852\n",
       "6       0.830537        0.037029  GradientBoostingClassifier   0.812022\n",
       "0       0.829388        0.034812                    Pipeline   0.811982\n",
       "3       0.823820        0.042817      RandomForestClassifier   0.802412\n",
       "5       0.809251        0.036267        ExtraTreesClassifier   0.791118\n",
       "9       0.811486        0.041164               XGBClassifier   0.790903\n",
       "8       0.804744        0.033196        KNeighborsClassifier   0.788146\n",
       "4       0.800225        0.038524                         SVC   0.780963\n",
       "7       0.798015        0.040301          AdaBoostClassifier   0.777865\n",
       "2       0.792397        0.047853      DecisionTreeClassifier   0.768471"
      ]
     },
     "execution_count": 63,
     "metadata": {},
     "output_type": "execute_result"
    }
   ],
   "source": [
    "cv_res['criterion'] = cv_res['CrossValMeans'] - (cv_res['CrossValErrors']/2)\n",
    "cv_res.sort_values(by='criterion', ascending=False)"
   ]
  },
  {
   "cell_type": "code",
   "execution_count": 64,
   "id": "8053b6fe-fada-438b-b925-12c4fae7010b",
   "metadata": {
    "scrolled": true
   },
   "outputs": [
    {
     "name": "stdout",
     "output_type": "stream",
     "text": [
      "predicting: Pipeline\n",
      "   PassengerId  Survived\n",
      "0          892         0\n",
      "1          893         1\n",
      "predicting: LogisticRegression\n",
      "   PassengerId  Survived\n",
      "0          892         0\n",
      "1          893         1\n",
      "predicting: DecisionTreeClassifier\n",
      "   PassengerId  Survived\n",
      "0          892         0\n",
      "1          893         1\n",
      "predicting: RandomForestClassifier\n",
      "   PassengerId  Survived\n",
      "0          892         0\n",
      "1          893         0\n",
      "predicting: SVC\n",
      "   PassengerId  Survived\n",
      "0          892         0\n",
      "1          893         1\n",
      "predicting: ExtraTreesClassifier\n",
      "   PassengerId  Survived\n",
      "0          892         0\n",
      "1          893         0\n",
      "predicting: GradientBoostingClassifier\n",
      "   PassengerId  Survived\n",
      "0          892         0\n",
      "1          893         1\n",
      "predicting: AdaBoostClassifier\n",
      "   PassengerId  Survived\n",
      "0          892         0\n",
      "1          893         1\n",
      "predicting: KNeighborsClassifier\n",
      "   PassengerId  Survived\n",
      "0          892         0\n",
      "1          893         1\n",
      "predicting: XGBClassifier\n",
      "   PassengerId  Survived\n",
      "0          892         0\n",
      "1          893         0\n"
     ]
    }
   ],
   "source": [
    "for algo, model in zip(cv_names, models):\n",
    "    print(f'predicting: {algo}')\n",
    "    model.fit(X_train_final, Y_train_final)\n",
    "    y_pred = model.predict(X_test_final)\n",
    "    \n",
    "    y_test = pd.concat([X_test[['PassengerId']], pd.DataFrame(y_pred, columns=['Survived'])], axis=1)\n",
    "    print(y_test.head(2))\n",
    "    \n",
    "    output_file = f'titanic_output/Raw_{algo}.csv'\n",
    "    y_test.to_csv(output_file, index=False)"
   ]
  },
  {
   "cell_type": "code",
   "execution_count": 65,
   "id": "fb4e0421-ff71-42b7-b44f-1ff1263ab113",
   "metadata": {
    "scrolled": true
   },
   "outputs": [
    {
     "name": "stdout",
     "output_type": "stream",
     "text": [
      "Fitting 10 folds for each of 200 candidates, totalling 2000 fits\n",
      "params {'memory': None, 'steps': [('scaler', StandardScaler()), ('logistic', LogisticRegression(C=np.float64(0.11233240329780277), max_iter=5000,\n",
      "                   penalty='l1', solver='saga'))], 'transform_input': None, 'verbose': False, 'scaler': StandardScaler(), 'logistic': LogisticRegression(C=np.float64(0.11233240329780277), max_iter=5000,\n",
      "                   penalty='l1', solver='saga'), 'scaler__copy': True, 'scaler__with_mean': True, 'scaler__with_std': True, 'logistic__C': np.float64(0.11233240329780277), 'logistic__class_weight': None, 'logistic__dual': False, 'logistic__fit_intercept': True, 'logistic__intercept_scaling': 1, 'logistic__l1_ratio': None, 'logistic__max_iter': 5000, 'logistic__multi_class': 'deprecated', 'logistic__n_jobs': None, 'logistic__penalty': 'l1', 'logistic__random_state': None, 'logistic__solver': 'saga', 'logistic__tol': 0.0001, 'logistic__verbose': 0, 'logistic__warm_start': False}\n"
     ]
    },
    {
     "data": {
      "text/plain": [
       "np.float64(0.8338951310861423)"
      ]
     },
     "execution_count": 65,
     "metadata": {},
     "output_type": "execute_result"
    }
   ],
   "source": [
    "LR = Pipeline([\n",
    "    ('scaler', StandardScaler()),\n",
    "    ('logistic', LogisticRegression(max_iter=5000, solver='saga'))\n",
    "])\n",
    "lr_param_grid = {\n",
    "    'logistic__penalty': ['l1', 'l2'],\n",
    "    'logistic__C': np.logspace(-2, 2, 100)\n",
    "}\n",
    "\n",
    "gsLR = GridSearchCV(LR, param_grid=lr_param_grid, cv=kfold, scoring='accuracy', n_jobs=4, verbose=1)\n",
    "gsLR.fit(X_train_final, Y_train_final)\n",
    "LR_best = gsLR.best_estimator_\n",
    "\n",
    "print('params', LR_best.get_params())\n",
    "gsLR.best_score_"
   ]
  },
  {
   "cell_type": "code",
   "execution_count": 66,
   "id": "8794c1d6-0702-46c7-8a9b-f29f2f27cadf",
   "metadata": {
    "scrolled": true
   },
   "outputs": [
    {
     "name": "stdout",
     "output_type": "stream",
     "text": [
      "Fitting 10 folds for each of 576 candidates, totalling 5760 fits\n",
      "params {'bootstrap': False, 'ccp_alpha': 0.0, 'class_weight': None, 'criterion': 'gini', 'max_depth': 5, 'max_features': 'log2', 'max_leaf_nodes': None, 'max_samples': None, 'min_impurity_decrease': 0.0, 'min_samples_leaf': 2, 'min_samples_split': 5, 'min_weight_fraction_leaf': 0.0, 'monotonic_cst': None, 'n_estimators': 200, 'n_jobs': None, 'oob_score': False, 'random_state': None, 'verbose': 0, 'warm_start': False}\n"
     ]
    },
    {
     "data": {
      "text/plain": [
       "np.float64(0.8406367041198501)"
      ]
     },
     "execution_count": 66,
     "metadata": {},
     "output_type": "execute_result"
    }
   ],
   "source": [
    "RF = RandomForestClassifier()\n",
    "rf_param_grid = {\n",
    "    \"max_depth\": [int(x) for x in np.linspace(1, 20, num = 5)] + [None],\n",
    "    \"max_features\": ['log2', 'sqrt', None],\n",
    "    \"min_samples_split\": [5, 10],\n",
    "    \"min_samples_leaf\": [2, 4],\n",
    "    \"bootstrap\": [True, False],\n",
    "    \"n_estimators\": [int(x) for x in np.linspace(start = 200, stop = 1400, num = 4)],\n",
    "    \"criterion\": ['gini']\n",
    "}\n",
    "\n",
    "gsRF = GridSearchCV(RF, param_grid=rf_param_grid, cv=kfold, scoring='accuracy', n_jobs=4, verbose=1)\n",
    "gsRF.fit(X_train_final, Y_train_final)\n",
    "RF_best = gsRF.best_estimator_\n",
    "\n",
    "print('params', RF_best.get_params())\n",
    "gsRF.best_score_"
   ]
  },
  {
   "cell_type": "code",
   "execution_count": 67,
   "id": "b3f98bea-8e5b-4f98-ae36-36a11d1ef063",
   "metadata": {
    "scrolled": true
   },
   "outputs": [
    {
     "name": "stdout",
     "output_type": "stream",
     "text": [
      "Fitting 10 folds for each of 2880 candidates, totalling 28800 fits\n",
      "{'ccp_alpha': 0.0, 'criterion': 'friedman_mse', 'init': None, 'learning_rate': 0.25, 'loss': 'log_loss', 'max_depth': 2, 'max_features': 0.5, 'max_leaf_nodes': None, 'min_impurity_decrease': 0.0, 'min_samples_leaf': 4, 'min_samples_split': 2, 'min_weight_fraction_leaf': 0.0, 'n_estimators': 200, 'n_iter_no_change': None, 'random_state': None, 'subsample': 1.0, 'tol': 0.0001, 'validation_fraction': 0.1, 'verbose': 0, 'warm_start': False}\n"
     ]
    },
    {
     "data": {
      "text/plain": [
       "np.float64(0.8440449438202247)"
      ]
     },
     "execution_count": 67,
     "metadata": {},
     "output_type": "execute_result"
    }
   ],
   "source": [
    "GB = GradientBoostingClassifier()\n",
    "gb_param_grid = {\n",
    "    'loss' : ['log_loss'],\n",
    "    'n_estimators' : [1, 2, 4, 32, 100, 150, 200, 300],\n",
    "    'learning_rate': [1, 0.25, 0.1, 0.05, 0.01],\n",
    "    'max_depth': [1, 2, 4, 8, 16, 32],\n",
    "    'min_samples_leaf': [1, 2, 4, 8],\n",
    "    'max_features': [0.5, 0.3, 0.1]\n",
    "}\n",
    "\n",
    "gsGB = GridSearchCV(GB, param_grid=gb_param_grid, cv=kfold, scoring='accuracy', n_jobs=4, verbose=1)\n",
    "gsGB.fit(X_train_final, Y_train_final)\n",
    "\n",
    "GB_best = gsGB.best_estimator_\n",
    "\n",
    "print(GB_best.get_params())\n",
    "gsGB.best_score_"
   ]
  },
  {
   "cell_type": "code",
   "execution_count": 68,
   "id": "e097b764-cc97-4b07-b127-b747963db0a8",
   "metadata": {},
   "outputs": [
    {
     "name": "stdout",
     "output_type": "stream",
     "text": [
      "Fitting 10 folds for each of 66 candidates, totalling 660 fits\n",
      "{'C': 1, 'break_ties': False, 'cache_size': 200, 'class_weight': None, 'coef0': 0.0, 'decision_function_shape': 'ovr', 'degree': 3, 'gamma': 0.1, 'kernel': 'rbf', 'max_iter': -1, 'probability': True, 'random_state': None, 'shrinking': True, 'tol': 0.001, 'verbose': False}\n"
     ]
    },
    {
     "data": {
      "text/plain": [
       "np.float64(0.8327715355805244)"
      ]
     },
     "execution_count": 68,
     "metadata": {},
     "output_type": "execute_result"
    }
   ],
   "source": [
    "SV = SVC(probability=True)\n",
    "sv_param_grid = {\n",
    "    'kernel': ['rbf'],\n",
    "    'gamma': [0.00001, 0.0001, 0.001, 0.01, 0.1, 1 ],\n",
    "    'C': [0.001, 0.01, 0.1, 1, 10, 50, 100,200,300, 1000, 3000]\n",
    "}\n",
    "\n",
    "gsSV = GridSearchCV(SV, param_grid=sv_param_grid, cv=kfold, scoring='accuracy', n_jobs=4, verbose=1)\n",
    "gsSV.fit(X_train_final, Y_train_final)\n",
    "\n",
    "SV_best = gsSV.best_estimator_\n",
    "\n",
    "print(SV_best.get_params())\n",
    "gsSV.best_score_"
   ]
  },
  {
   "cell_type": "code",
   "execution_count": 69,
   "id": "711dd58b-e278-4528-ac42-827d1964a137",
   "metadata": {
    "scrolled": true
   },
   "outputs": [
    {
     "name": "stdout",
     "output_type": "stream",
     "text": [
      "Fitting 10 folds for each of 3125 candidates, totalling 31250 fits\n",
      "{'objective': 'binary:logistic', 'base_score': None, 'booster': None, 'callbacks': None, 'colsample_bylevel': None, 'colsample_bynode': None, 'colsample_bytree': np.float64(0.5), 'device': None, 'early_stopping_rounds': None, 'enable_categorical': False, 'eval_metric': None, 'feature_types': None, 'feature_weights': None, 'gamma': np.float64(0.5), 'grow_policy': None, 'importance_type': None, 'interaction_constraints': None, 'learning_rate': None, 'max_bin': None, 'max_cat_threshold': None, 'max_cat_to_onehot': None, 'max_delta_step': None, 'max_depth': 8, 'max_leaves': None, 'min_child_weight': np.float64(10.0), 'missing': nan, 'monotone_constraints': None, 'multi_strategy': None, 'n_estimators': None, 'n_jobs': None, 'num_parallel_tree': None, 'random_state': None, 'reg_alpha': None, 'reg_lambda': None, 'sampling_method': None, 'scale_pos_weight': None, 'subsample': np.float64(0.75), 'tree_method': None, 'validate_parameters': None, 'verbosity': None}\n"
     ]
    },
    {
     "data": {
      "text/plain": [
       "np.float64(0.8462546816479399)"
      ]
     },
     "execution_count": 69,
     "metadata": {},
     "output_type": "execute_result"
    }
   ],
   "source": [
    "XGB = XGBClassifier()\n",
    "xgb_param_grid = {\n",
    "    'min_child_weight': np.linspace(1, 10, 5, endpoint=True),\n",
    "    'gamma': np.linspace(0.5, 5, 5, endpoint=True),\n",
    "    'subsample': np.linspace(0.5, 1, 5, endpoint=True),\n",
    "    'colsample_bytree': np.linspace(0.5, 1, 5, endpoint=True),\n",
    "    'max_depth': [1, 2, 4, 8, 10],\n",
    "}\n",
    "\n",
    "gsXGB = GridSearchCV(XGB, param_grid=xgb_param_grid, cv=kfold, scoring='accuracy', n_jobs=4, verbose=1)\n",
    "gsXGB.fit(X_train_final, Y_train_final)\n",
    "\n",
    "XGB_best = gsXGB.best_estimator_\n",
    "\n",
    "print(XGB_best.get_params())\n",
    "gsXGB.best_score_"
   ]
  },
  {
   "cell_type": "code",
   "execution_count": 71,
   "id": "b8247a7d-f7ab-4afa-9f95-d3b26fe99bb7",
   "metadata": {},
   "outputs": [],
   "source": [
    "test_Survived_LR = pd.Series(LR_best.predict(X_test_final), name=\"LR\")\n",
    "test_Survived_RF = pd.Series(RF_best.predict(X_test_final), name=\"RF\")\n",
    "test_Survived_GB = pd.Series(GB_best.predict(X_test_final), name=\"GB\")\n",
    "test_Survived_SV = pd.Series(SV_best.predict(X_test_final), name=\"SV\")\n",
    "test_Survived_XGB = pd.Series(XGB_best.predict(X_test_final), name=\"XGB\")"
   ]
  },
  {
   "cell_type": "code",
   "execution_count": 72,
   "id": "c4473fe0-c2ec-494d-9edc-9e63741b19cf",
   "metadata": {},
   "outputs": [
    {
     "data": {
      "image/png": "[encoded data removed]",
      "text/plain": [
       "<Figure size 640x480 with 2 Axes>"
      ]
     },
     "metadata": {},
     "output_type": "display_data"
    }
   ],
   "source": [
    "ensemble_results = pd.concat([\n",
    "    test_Survived_LR,\n",
    "    test_Survived_RF,\n",
    "    test_Survived_GB,\n",
    "    test_Survived_SV,\n",
    "    test_Survived_XGB\n",
    "],axis=1)\n",
    "g= sns.heatmap(ensemble_results.corr(), annot=True)"
   ]
  },
  {
   "cell_type": "code",
   "execution_count": 73,
   "id": "bb227c67-c5e1-4795-a222-f1c1bd60b062",
   "metadata": {},
   "outputs": [
    {
     "name": "stdout",
     "output_type": "stream",
     "text": [
      "   PassengerId  Survived\n",
      "0          892         0\n",
      "1          893         0\n"
     ]
    }
   ],
   "source": [
    "votingC = VotingClassifier(estimators=[\n",
    "    ('LR', LR_best),\n",
    "    ('RF', RF_best),\n",
    "    ('GB', GB_best),\n",
    "    ('SV', SV_best),\n",
    "    ('XGB', XGB_best)\n",
    "], voting='soft', n_jobs=4)\n",
    "\n",
    "votingC = votingC.fit(X_train_final, Y_train_final)\n",
    "y_pred = votingC.predict(X_test_final)\n",
    "\n",
    "y_test = pd.concat([X_test[['PassengerId']], pd.DataFrame(y_pred, columns=['Survived'])], axis=1)\n",
    "print(y_test.head(2))\n",
    "\n",
    "output_file = f'titanic_output/VotingC.csv'\n",
    "y_test.to_csv(output_file, index=False)"
   ]
  },
  {
   "cell_type": "code",
   "execution_count": null,
   "id": "19adf7d5-d9c8-408f-ab64-9618ab5ca13c",
   "metadata": {},
   "outputs": [],
   "source": []
  }
 ],
 "metadata": {
  "kernelspec": {
   "display_name": "Python 3 (ipykernel)",
   "language": "python",
   "name": "python3"
  },
  "language_info": {
   "codemirror_mode": {
    "name": "ipython",
    "version": 3
   },
   "file_extension": ".py",
   "mimetype": "text/x-python",
   "name": "python",
   "nbconvert_exporter": "python",
   "pygments_lexer": "ipython3",
   "version": "3.13.3"
  }
 },
 "nbformat": 4,
 "nbformat_minor": 5
}
